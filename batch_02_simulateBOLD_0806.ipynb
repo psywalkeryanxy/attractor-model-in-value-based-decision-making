{
 "cells": [
  {
   "cell_type": "markdown",
   "metadata": {},
   "source": [
    "## step02:\n",
    "## Using the optimal estimated parameters to get the firing-rate for each subject in each trial for each choices\n",
    "\n",
    "## Then simulate the BOLD signal\n",
    "\n",
    "### 5 participants"
   ]
  },
  {
   "cell_type": "code",
   "execution_count": 79,
   "metadata": {},
   "outputs": [],
   "source": [
    "from __future__ import division\n",
    "import numpy as np\n",
    "import matplotlib.pyplot as plt\n",
    "from scipy import optimize\n",
    "import pandas as pd\n",
    "\n",
    "#from src.attractor_model import *\n",
    "\n",
    "\n",
    "\n",
    "#import participants' data\n",
    "\n",
    "subdata = pd.read_csv('data_PL_REWARD_020165_for_rstan.csv')\n",
    "\n",
    "subdata_1= subdata[(subdata.participant==1)]\n",
    "\n"
   ]
  },
  {
   "cell_type": "code",
   "execution_count": 80,
   "metadata": {},
   "outputs": [],
   "source": [
    "#parameters keep same with WANG's MODEL for economic decisions\n",
    "def F(I, a=175., b=30., d=0.100):\n",
    "    \"\"\"F(I) for vector I\"\"\"\n",
    "    \n",
    "    return (a*I - b)/(1.-np.exp(-d*(a*I - b)))\n"
   ]
  },
  {
   "cell_type": "code",
   "execution_count": 81,
   "metadata": {},
   "outputs": [],
   "source": [
    "\n",
    "# Let's first define parameters for our model, using dictionaries:\n",
    "\n",
    "def default_pars():\n",
    "    '''\n",
    "    Return: dictionary of default parameters for Wong & Wang (2006) reduced model.\n",
    "    '''\n",
    "\n",
    "    z = {}\n",
    "    ### Stimulus Parameters ###\n",
    "    z['Jext'] = 5.2e-4 # Stimulus input strength [nA]\n",
    "\n",
    "    # Working memory (WM) stimulus parameters\n",
    "    z['mu1'] = 20. # Strength of stimulus 1 [dimensionless]\n",
    "    z['mu2'] = 0. # Strength of stimulus 2 [dimensionless]\n",
    "\n",
    "    # Decision making (DM) stimulus parameters\n",
    "    z['coh'] = 100. # Stimulus coherence [%]\n",
    "    z['mu0'] = 20. # Stimulus firing rate [spikes/sec]\n",
    "\n",
    "    ### Network Parameters ###\n",
    "    z['JE'] = 0.2609 # self-coupling strength [nA]\n",
    "    z['JI'] = -0.0497 # cross-coupling strength [nA]\n",
    "    z['I0'] = 0.3255 # background current [nA]\n",
    "    z['tauS'] = 0.1 # Synaptic time constant [sec]\n",
    "    z['gamma'] = 0.641 # Saturation factor for gating variable\n",
    "    z['tau0'] = 0.002 # Noise time constant [sec]\n",
    "    z['sigma'] = 0.02 # Noise magnitude [nA]\n",
    "    \n",
    "    z['n1'] = 6.0          # structural connectivity\n",
    "    z['n2'] = 12.0       # self-excitation scaling factor\n",
    "    z['t1'] = 0.9         # long-range scaling factor\n",
    "    z['t2'] = 0.2     # overall excitatory strength [nA]\n",
    "    z['a2'] = 0.2       # 0.3255 # background current [nA]\n",
    "    \n",
    "\n",
    "    \n",
    "    return z\n",
    "\n",
    "def default_expt_pars():\n",
    "    '''\n",
    "    Return: dictionary of parameters related to experimental simulation.\n",
    "    '''\n",
    "\n",
    "    z = {}\n",
    "    z['Ntrials'] = 1 # Total number of trials\n",
    "    z['Ttotal'] = 3.5 # Total duration of simulation [sec]\n",
    "    z['Tstim'] = 1 # Time of stimulus 1 onset [sec]\n",
    "    z['Tdur'] = 2. # Duration of stimulus 1 [sec]\n",
    "    z['dt'] = 0.0005 # Simulation time step [sec]\n",
    "    z['dt_smooth'] = 0.02 # Temporal window size for smoothing [sec]\n",
    "    z['S1_init'] = 0.1 # initial condition for dimension-less gating variable S1\n",
    "    z['S2_init'] = 0.1 # initial condition for dimension-less gating variable S2\n",
    "    return z\n",
    "\n",
    "\n",
    "# Now let's make a function that simulates the model in time, for multiple trials:\n",
    "\n",
    "def run_simBOLD(pars,expt_pars,expt, verbose=False):\n",
    "    '''\n",
    "    Run simulation, for multiple trials.\n",
    "\n",
    "    Parameters:\n",
    "    pars : circuit model parameters\n",
    "    expt_pars : other parameters\n",
    "    expt: Experimental paradigm: 'WM' (for working memory ) or 'DM' (for decision making)\n",
    "\n",
    "    Return: dictionary with activity traces\n",
    "    '''\n",
    "\n",
    "    # Make lists to store firing rate (r) and gating variable (s)\n",
    "    S1_traj = [];\n",
    "    S2_traj = [];\n",
    "    r1_traj = [];\n",
    "    r2_traj = [];\n",
    "    r1smooth_traj = [];\n",
    "    r2smooth_traj = [];\n",
    "    \n",
    "    B1_traj = [];\n",
    "    B2_traj = [];\n",
    "\n",
    "    \n",
    "    \n",
    "    for i in range(expt_pars['Ntrials']): #Loop through trials\n",
    "\n",
    "        if verbose and (i % 10 == 0):\n",
    "            print (\"trial # \", i+1, 'of', expt_pars['Ntrials'])\n",
    "\n",
    "        #Set random seed\n",
    "        np.random.seed(i)\n",
    "\n",
    "        #Initialize\n",
    "        r1smooth = []\n",
    "        r2smooth = []\n",
    "\n",
    "        NT = int(expt_pars['Ttotal']/expt_pars['dt'])\n",
    "\n",
    "        Ieta1 = np.zeros(NT+1)\n",
    "        Ieta2 = np.zeros(NT+1)\n",
    "        h =  np.zeros(NT+1)\n",
    "        S1 = np.zeros(NT+1)\n",
    "        S2 = np.zeros(NT+1)\n",
    "        r1 = np.zeros(NT)\n",
    "        r2 = np.zeros(NT)\n",
    "        B1 = np.zeros(NT+1)\n",
    "        B2 = np.zeros(NT+1)\n",
    "        # Initialize S1, S2\n",
    "        S1[0] = expt_pars['S1_init']\n",
    "        S2[0] = expt_pars['S2_init']\n",
    "\n",
    "        for t in range(0,NT): #Loop through time for a trial\n",
    "\n",
    "            #---- Stimulus------------------------------------------------------\n",
    "\n",
    "            if expt == 'WM':\n",
    "                Istim1 = \\\n",
    "                    ((expt_pars['Tstim']/expt_pars['dt'] < t) & \\\n",
    "                     (t<(expt_pars['Tstim']+expt_pars['Tdur'])/expt_pars['dt'])\n",
    "                    ) * (pars['Jext']*pars['mu1']) # To population 1\n",
    "                Istim2 = \\\n",
    "                    ((expt_pars['Tstim']/expt_pars['dt'] < t) & \\\n",
    "                     (t<(expt_pars['Tstim']+expt_pars['Tdur'])/expt_pars['dt'])\n",
    "                    ) * (pars['Jext']*pars['mu2']) # To population 1\n",
    "\n",
    "            elif expt == 'DM':\n",
    "                Istim1 = (pars['Jext']*pars['mu0']*(1+pars['coh']/100.)) # To population 1\n",
    "                Istim2 = (pars['Jext']*pars['mu0']*(1-pars['coh']/100.)) # To population 2\n",
    "\n",
    "            # Total synaptic input\n",
    "\n",
    "            Isyn1 = pars['JE']*S1[t] + pars['JI']*S2[t] + Istim1 + Ieta1[t]\n",
    "            Isyn2 = pars['JI']*S1[t] + pars['JE']*S2[t] + Istim2 + Ieta2[t]\n",
    "            #Isyn1, Isyn2 = currents_WM(S1[t], S2[t], pars)\n",
    "\n",
    "            # Transfer function to get firing rate\n",
    "\n",
    "            r1[t]  = F(Isyn1)\n",
    "            r2[t]  = F(Isyn2)\n",
    "\n",
    "            #---- Dynamical equations -------------------------------------------\n",
    "\n",
    "            # Mean NMDA-mediated synaptic dynamics updating\n",
    "            S1[t+1] = S1[t] + expt_pars['dt']*(-S1[t]/pars['tauS'] + (1-S1[t])*pars['gamma']*r1[t]);\n",
    "            S2[t+1] = S2[t] + expt_pars['dt']*(-S2[t]/pars['tauS'] + (1-S2[t])*pars['gamma']*r2[t]);\n",
    "\n",
    "            # Ornstein-Uhlenbeck generation of noise in pop1 and 2\n",
    "            Ieta1[t+1] = Ieta1[t] + \\\n",
    "                            (expt_pars['dt']/pars['tau0']) * (pars['I0']-Ieta1[t]) + \\\n",
    "                            np.sqrt(expt_pars['dt']/pars['tau0'])*pars['sigma']*np.random.randn()\n",
    "            Ieta2[t+1] = Ieta2[t] + \\\n",
    "                            (expt_pars['dt']/pars['tau0'])*(pars['I0']-Ieta2[t]) + \\\n",
    "                            np.sqrt(expt_pars['dt']/pars['tau0'])*pars['sigma']*np.random.randn()\n",
    "            \n",
    "            ########################################################\n",
    "            h[t] = np.max(t**pars['n1']*np.exp(-t/pars['t1']))*t**pars['n1']*np.exp(-t/pars['t1']) - \\\n",
    "                    pars['a2']* np.max(t**pars['n2']*np.exp(-t/pars['t2']))*t**pars['n2']*np.exp(-t/pars['t2'])\n",
    "            \n",
    "            \n",
    "            B1[t] = h[t]*S1[t+1]\n",
    "            B2[t] = h[t]*S2[t+1]\n",
    "            ########################################################\n",
    "\n",
    "        smooth_wind = int(expt_pars['dt_smooth']/expt_pars['dt'])\n",
    "\n",
    "        r1smooth = np.array([np.mean(r1[j:j+smooth_wind]) for j in range(NT)])\n",
    "        r2smooth = np.array([np.mean(r2[j:j+smooth_wind]) for j in range(NT)])\n",
    "        \n",
    "        \n",
    "        ## calcualte the h(t)\n",
    "        \n",
    "        \n",
    "\n",
    "        S1_traj.append(S1)\n",
    "        S2_traj.append(S2)\n",
    "        r1_traj.append(r1)\n",
    "        r2_traj.append(r2)\n",
    "        r1smooth_traj.append(r1smooth)\n",
    "        r2smooth_traj.append(r2smooth)\n",
    "        B1_traj.append(B1)\n",
    "        B2_traj.append(B2)\n",
    "        #####end####\n",
    "\n",
    "    tvec = expt_pars['dt']*np.arange(NT)\n",
    "\n",
    "    z = {'S1':S1_traj, 'S2':S2_traj, # NMDA gating variables\n",
    "         'r1':r1_traj, 'r2':r2_traj, # Firing rates\n",
    "         'r1smooth':r1smooth_traj, 'r2smooth':r2smooth_traj, # smoothed firing rates\n",
    "         't':tvec,\n",
    "         'B1':B1_traj,\n",
    "         'B2':B2_traj\n",
    "        }\n",
    "\n",
    "    return z\n",
    "\n",
    "# Now let's build some functions that let us analyze the model using tools of dynamical systems theory: phase plane, nullclines fixed points, and flow fields.\n"
   ]
  },
  {
   "cell_type": "code",
   "execution_count": 113,
   "metadata": {},
   "outputs": [],
   "source": [
    "def get_firingrate(params):\n",
    "    ######\n",
    "    LR = params[0]\n",
    "\n",
    "    #let xinyuan try the 1st participants\n",
    "    \n",
    "\n",
    "    #create the empty mat with nan to store value\n",
    "    val = np.full([len(subdata_1),2], np.nan)\n",
    "    val[0] = 0.5\n",
    "    \n",
    "    this_choice_data = np.zeros(len(subdata_1))\n",
    "    for trial in range(0,len(subdata_1)-1):\n",
    "        \n",
    "\n",
    "    \n",
    "        if subdata_1.accuracy.iloc[trial]==0:\n",
    "            \n",
    "            this_choice = subdata_1.inc_option.iloc[trial]\n",
    "            \n",
    "            this_choice_data[trial] = this_choice\n",
    "            \n",
    "            val[trial+1][this_choice-1]=val[trial][this_choice-1]+LR*(subdata_1.f_inc.iloc[trial]-val[trial][this_choice-1])\n",
    "            val[trial+1][1-this_choice+1] = 1-val[trial+1][this_choice-1]\n",
    "        if subdata_1.accuracy.iloc[trial]==1:\n",
    "            this_choice = subdata_1.cor_option.iloc[trial]\n",
    "            \n",
    "            this_choice_data[trial] = this_choice\n",
    "            \n",
    "            val[trial+1][this_choice-1]=val[trial][this_choice-1]+LR*(subdata_1.f_cor.iloc[trial]-val[trial][this_choice-1])\n",
    "            val[trial+1][1-this_choice+1] = 1-val[trial+1][this_choice-1]\n",
    "    \n",
    "\n",
    "#getting the value difference\n",
    "    val_diff = []\n",
    "\n",
    "    for kk in range(0,len(subdata_1)):\n",
    "    \n",
    "        thisval= val[kk][0]-val[kk][1]\n",
    "   \n",
    "        val_diff.append(thisval)\n",
    "\n",
    "    #end loop here\n",
    "    \n",
    "    #print(len(val_diff))\n",
    "    \n",
    "\n",
    "\n",
    "\n",
    "\n",
    "    for cPrime in range(0,len(val_diff)):#trial by trial\n",
    "        \n",
    "        \n",
    "        \n",
    "\n",
    "\n",
    "        pars['coh'] = val_diff[cPrime]*100#to make the value not to be too small\n",
    "        #print('coherence-:',pars['coh'])\n",
    "        expt_pars['Ntrials'] = 1 # Total number of trials\n",
    "        pars['JE'] = params[1]\n",
    "        pars['JI'] = params[2]\n",
    "        frThreshold = params[3]\n",
    "        \n",
    "    \n",
    "        results = run_simBOLD(pars, expt_pars, expt='DM')\n",
    "        ##get the firing rate\n",
    "        firingrate1 = results['r1smooth']#\n",
    "        firingrate2 = results['r2smooth']#\n",
    "        \n",
    "\n",
    "    \n",
    "        r1_val[cPrime] = results['r1smooth'][0]\n",
    "        r2_val[cPrime] = results['r2smooth'][0]\n",
    "        r_avg[cPrime] = (r1_val[0]+r2_val[0])/2\n",
    "\n",
    "        S1_val[cPrime]= results['S1'][0]\n",
    "        S2_val[cPrime]= results['S1'][0]\n",
    "        B1_val[cPrime]= results['B1'][0]\n",
    "        B2_val[cPrime]= results['B2'][0]\n",
    "        \n",
    "        S_avg[cPrime] = (S1_val[0]+S2_val[0])/2\n",
    "    \n",
    "    \n",
    "        for r1smooth, r2smooth in zip(results['r1smooth'], results['r2smooth']): # loop over trials\n",
    "            rt1 = next((t for t,r1 in zip(results['t'], r1smooth) if r1 > frThreshold), expt_pars['Ttotal'])\n",
    "            rt2 = next((t for t,r2 in zip(results['t'], r2smooth) if r2 > frThreshold), expt_pars['Ttotal'])\n",
    "            #print('rt1 is-',rt1)\n",
    "            #print('rt2 is-',rt2)\n",
    "            if rt1 < rt2:\n",
    "                #allchoice.append(1)\n",
    "                allRT_temp[cPrime]=float(rt1)\n",
    "                allchoice[cPrime] = 1\n",
    "              \n",
    "            if rt2 < rt1:\n",
    "                \n",
    "                \n",
    "                #allchoice.append(2)\n",
    "                allRT_temp[cPrime]=float(rt2)\n",
    "                allchoice[cPrime] = 2\n",
    "               \n",
    "                \n",
    "            if rt2==rt1:\n",
    "                                    \n",
    "                                    \n",
    "                allRT_temp[cPrime]=(1+np.random.rand(1)[0])\n",
    "                allchoice[cPrime] = 0\n",
    "                \n",
    "\n",
    "            \n",
    "\n",
    "\n",
    "\n",
    "    return allRT_temp,S1_val,S2_val,r1_val,r2_val,S_avg,r_avg,allchoice,this_choice_data, B1_val, B2_val\n"
   ]
  },
  {
   "cell_type": "code",
   "execution_count": 84,
   "metadata": {},
   "outputs": [],
   "source": [
    "df_allsub_para = pd.read_csv('allsub_para.csv')\n",
    "\n",
    "thissub_para = np.zeros([4])\n",
    "thissub_para[0] = df_allsub_para['learning-rate'][0]\n",
    "thissub_para[1] = df_allsub_para['JE'][0]\n",
    "thissub_para[2] = df_allsub_para['JI'][0]\n",
    "thissub_para[3] = df_allsub_para['threshold'][0]"
   ]
  },
  {
   "cell_type": "code",
   "execution_count": 85,
   "metadata": {},
   "outputs": [],
   "source": [
    "#subdata_1= subdata[(subdata.participant==1)]\n",
    "rt_data = subdata_1['rt']\n",
    "#allRT_temp = np.zeros(len(subdata_1))\n",
    "\n",
    "\n",
    "allRT_temp,S1_val,S2_val,r1_val,r2_val,S_avg,r_avg,subchoice,this_choice_data,B1_val, B2_val = get_firingrate(thissub_para)"
   ]
  },
  {
   "cell_type": "code",
   "execution_count": 86,
   "metadata": {},
   "outputs": [
    {
     "data": {
      "text/plain": [
       "[<matplotlib.lines.Line2D at 0x7ffae25c9370>]"
      ]
     },
     "execution_count": 86,
     "metadata": {},
     "output_type": "execute_result"
    },
    {
     "data": {
      "image/png": "[encoded data removed]",
      "text/plain": [
       "<Figure size 432x288 with 1 Axes>"
      ]
     },
     "metadata": {
      "needs_background": "light"
     },
     "output_type": "display_data"
    }
   ],
   "source": [
    "plt.plot(B1_val[0])"
   ]
  },
  {
   "cell_type": "code",
   "execution_count": 87,
   "metadata": {},
   "outputs": [
    {
     "data": {
      "text/plain": [
       "[<matplotlib.lines.Line2D at 0x7ffac991ea90>]"
      ]
     },
     "execution_count": 87,
     "metadata": {},
     "output_type": "execute_result"
    },
    {
     "data": {
      "image/png": "[encoded data removed]",
      "text/plain": [
       "<Figure size 432x288 with 1 Axes>"
      ]
     },
     "metadata": {
      "needs_background": "light"
     },
     "output_type": "display_data"
    }
   ],
   "source": [
    "x = np.linspace(0,25,25)\n",
    "plt.plot(x,B1_val[3][0:25])"
   ]
  },
  {
   "cell_type": "code",
   "execution_count": 88,
   "metadata": {},
   "outputs": [
    {
     "data": {
      "text/plain": [
       "-17.665027251798556"
      ]
     },
     "execution_count": 88,
     "metadata": {},
     "output_type": "execute_result"
    }
   ],
   "source": [
    "np.sum(B1_val[57]-B2_val[57])\n"
   ]
  },
  {
   "cell_type": "code",
   "execution_count": 115,
   "metadata": {},
   "outputs": [],
   "source": [
    "for whichsub in range(1,6):\n",
    "    #load data\n",
    "    subdata_1= subdata[(subdata.participant==whichsub)]\n",
    "    \n",
    "    \n",
    "    r1_val = np.zeros([len(subdata_1),7000])\n",
    "    r2_val = np.zeros([len(subdata_1),7000])\n",
    "    r_avg = np.zeros([len(subdata_1),7000])\n",
    "\n",
    "    S1_val = np.zeros([len(subdata_1),7001])\n",
    "    S2_val = np.zeros([len(subdata_1),7001]) \n",
    "\n",
    "    B1_val = np.zeros([len(subdata_1),7001])\n",
    "    B2_val = np.zeros([len(subdata_1),7001])  \n",
    "\n",
    "    S_avg = np.zeros([len(subdata_1),7001])\n",
    "    allRT_temp = np.zeros(len(subdata_1))\n",
    "\n",
    "    allchoice = np.zeros(len(subdata_1))\n",
    "\n",
    "\n",
    "\n",
    "    pars = default_pars()\n",
    "    expt_pars = default_expt_pars()\n",
    "    \n",
    "    df_allsub_para = pd.read_csv('allsub_para.csv')\n",
    "\n",
    "    thissub_para = np.zeros([4])\n",
    "    thissub_para[0] = df_allsub_para['learning-rate'][whichsub-1]\n",
    "    thissub_para[1] = df_allsub_para['JE'][whichsub-1]\n",
    "    thissub_para[2] = df_allsub_para['JI'][whichsub-1]\n",
    "    thissub_para[3] = df_allsub_para['threshold'][whichsub-1]\n",
    "    \n",
    "        #subdata_1= subdata[(subdata.participant==1)]\n",
    "        \n",
    "\n",
    "    rt_data = subdata_1['rt']\n",
    "    #allRT_temp = np.zeros(len(subdata_1))\n",
    "    allRT_temp,S1_val,S2_val,S_avg,r1_val,r2_val,r_avg,subchoice,this_choice_data,B1_val, B2_val = get_firingrate(thissub_para)\n",
    "\n",
    "\n",
    "\n",
    "   # return allRT_temp,S1_val,S2_val,S_avg,r1_val,r2_val,r_avg,allchoice, B1_val, B2_val\n",
    "\n",
    "\n",
    "\n",
    "#     #  get default parameters\n",
    "#     default_BOLDparams=default_BOLDsim_pars(1,)\n",
    "#     paramsBOLD=default_BOLDparams.copy()\n",
    "#     #paramsBOLD['G']=1.0\n",
    "\n",
    "#     # run simulation\n",
    "\n",
    "    bold1 = np.zeros([len(subdata_1),7000])\n",
    "    mean_bold1 = np.zeros(len(subdata_1))\n",
    "\n",
    "    bold2 = np.zeros([len(subdata_1),7000])\n",
    "    mean_bold2 = np.zeros(len(subdata_1))\n",
    "\n",
    "\n",
    "    for kk in range(0,len(subdata_1)):\n",
    "\n",
    "\n",
    "        #print(DATAPACK['B'][kk])\n",
    "        #bold1[kk]  = \n",
    "        mean_bold1[kk]  = np.sum(B1_val[kk])/50\n",
    "\n",
    "\n",
    "        #print(DATAPACK['B'])\n",
    "        #DATAPACK['B']\n",
    "\n",
    "\n",
    "\n",
    "    for kk in range(0,len(subdata_1)):\n",
    "\n",
    "#         S_input = S2_val[kk]\n",
    "#         R_input = r2_val[kk]\n",
    "#         DATAPACK2 = run_simBOLD(paramsBOLD,S_input,R_input)\n",
    "\n",
    "\n",
    "#         #print(DATAPACK['B'][kk])\n",
    "#         bold2[kk]  = DATAPACK2['B'][0:7000]\n",
    "        mean_bold2[kk]  = np.sum(B2_val[kk])/50\n",
    "\n",
    "\n",
    "\n",
    "    # show the choice-based bold sigmal\n",
    "\n",
    "#     sub_meanbold = np.zeros(len(subdata_1))\n",
    "\n",
    "#     for kk in range(0,len(subdata_1)):\n",
    "\n",
    "#         if subchoice[kk]==1:\n",
    "#             sub_meanbold[kk] = mean_bold1[kk]\n",
    "\n",
    "#         if subchoice[kk]==2:\n",
    "#             sub_meanbold[kk] = mean_bold2[kk]\n",
    "    \n",
    "    \n",
    "    subRT_choice = np.zeros([len(subdata_1),6])\n",
    "    subRT_choice[:,0] = allRT_temp\n",
    "    subRT_choice[:,1] = subchoice\n",
    "    subRT_choice[:,2] = rt_data\n",
    "    choice_data = this_choice_data\n",
    "    subRT_choice[:,3] = choice_data\n",
    "    #subRT_choice[:,4] = sub_meanbold\n",
    "    subRT_choice[:,4] = mean_bold1\n",
    "    subRT_choice[:,5] = mean_bold2\n",
    "    \n",
    "    \n",
    "        \n",
    "\n",
    "\n",
    "\n",
    "\n",
    "    df_sub_meanbold = pd.DataFrame(subRT_choice)\n",
    "    df_sub_meanbold.columns = ['modeled_RT','modeled_choice','RT','choice','bold1','bold2']  \n",
    "    #show that\n",
    "    #df_sub_meanbold\n",
    "\n",
    "    df_sub_meanbold.to_csv(r'sub_'+str(whichsub)+'_alldata_add_two_meanbold_0806.csv')\n",
    "\n"
   ]
  },
  {
   "cell_type": "code",
   "execution_count": 94,
   "metadata": {},
   "outputs": [
    {
     "data": {
      "text/plain": [
       "-60.207141529229325"
      ]
     },
     "execution_count": 94,
     "metadata": {},
     "output_type": "execute_result"
    }
   ],
   "source": [
    "np.sum(B1_val[57]-B1_val[17])\n"
   ]
  },
  {
   "cell_type": "code",
   "execution_count": 108,
   "metadata": {},
   "outputs": [
    {
     "data": {
      "text/plain": [
       "37.41928122912353"
      ]
     },
     "execution_count": 108,
     "metadata": {},
     "output_type": "execute_result"
    }
   ],
   "source": [
    "np.sum(B2_val[7])/50\n"
   ]
  },
  {
   "cell_type": "code",
   "execution_count": 96,
   "metadata": {},
   "outputs": [
    {
     "data": {
      "text/plain": [
       "array([0.        , 0.01099898, 5.0224812 , ..., 0.        , 0.        ,\n",
       "       0.        ])"
      ]
     },
     "execution_count": 96,
     "metadata": {},
     "output_type": "execute_result"
    }
   ],
   "source": [
    "B1_val[5]"
   ]
  },
  {
   "cell_type": "code",
   "execution_count": 98,
   "metadata": {},
   "outputs": [
    {
     "data": {
      "text/plain": [
       "[<matplotlib.lines.Line2D at 0x7ffac8c34d60>]"
      ]
     },
     "execution_count": 98,
     "metadata": {},
     "output_type": "execute_result"
    },
    {
     "data": {
      "image/png": "[encoded data removed]",
      "text/plain": [
       "<Figure size 432x288 with 1 Axes>"
      ]
     },
     "metadata": {
      "needs_background": "light"
     },
     "output_type": "display_data"
    }
   ],
   "source": [
    "x = np.linspace(0,30,30)\n",
    "plt.plot(x,B1_val[57][0:30],'red')\n",
    "plt.plot(x,B1_val[5][0:30],'green')\n"
   ]
  },
  {
   "cell_type": "code",
   "execution_count": null,
   "metadata": {},
   "outputs": [],
   "source": []
  }
 ],
 "metadata": {
  "kernelspec": {
   "display_name": "Python 3",
   "language": "python",
   "name": "python3"
  },
  "language_info": {
   "codemirror_mode": {
    "name": "ipython",
    "version": 3
   },
   "file_extension": ".py",
   "mimetype": "text/x-python",
   "name": "python",
   "nbconvert_exporter": "python",
   "pygments_lexer": "ipython3",
   "version": "3.8.5"
  },
  "latex_envs": {
   "LaTeX_envs_menu_present": true,
   "autoclose": false,
   "autocomplete": true,
   "bibliofile": "biblio.bib",
   "cite_by": "apalike",
   "current_citInitial": 1,
   "eqLabelWithNumbers": true,
   "eqNumInitial": 1,
   "hotkeys": {
    "equation": "Ctrl-E",
    "itemize": "Ctrl-I"
   },
   "labels_anchors": false,
   "latex_user_defs": false,
   "report_style_numbering": false,
   "user_envs_cfg": false
  }
 },
 "nbformat": 4,
 "nbformat_minor": 4
}
